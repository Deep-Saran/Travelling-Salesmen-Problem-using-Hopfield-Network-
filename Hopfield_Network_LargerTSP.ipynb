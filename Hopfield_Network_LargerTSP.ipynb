{
  "nbformat": 4,
  "nbformat_minor": 0,
  "metadata": {
    "accelerator": "GPU",
    "colab": {
      "name": "Hopfield_Network_LargerTSP.ipynb",
      "provenance": [],
      "collapsed_sections": []
    },
    "kernelspec": {
      "name": "python3",
      "display_name": "Python 3"
    },
    "language_info": {
      "codemirror_mode": {
        "name": "ipython",
        "version": 3
      },
      "file_extension": ".py",
      "mimetype": "text/x-python",
      "name": "python",
      "nbconvert_exporter": "python",
      "pygments_lexer": "ipython3",
      "version": "3.7.3"
    }
  },
  "cells": [
    {
      "cell_type": "code",
      "metadata": {
        "colab_type": "code",
        "id": "FyZyISdCnMgJ",
        "colab": {}
      },
      "source": [
        "import numpy as np\n",
        "import matplotlib.pyplot as plt\n",
        "import time\n",
        "import urllib\n",
        "%matplotlib inline"
      ],
      "execution_count": 0,
      "outputs": []
    },
    {
      "cell_type": "code",
      "metadata": {
        "colab_type": "code",
        "id": "HtdfcfbBnMgN",
        "scrolled": true,
        "colab": {}
      },
      "source": [
        "#code written by us/ defining the points and visualizing the input data \n",
        "start_time = time.clock()\n",
        "#Importing Dataset\n",
        "urllib.request.urlretrieve(url = \"http://people.sc.fsu.edu/~jburkardt/datasets/tsp/att48_xy.txt\", filename = \"tsp1.txt\")\n",
        "fname = 'tsp1.txt'\n",
        "data= np.loadtxt(fname)\n",
        "x=data[:,0]\n",
        "y=data[:,1]\n",
        "N = len(x) #Number of Cities\n",
        "\n",
        "d = np.zeros([N,N]) # create a matrix with NxN martix\n",
        "\n",
        "for i in range(N):\n",
        "    for j in range(N):\n",
        "        d[i, j]=np.sqrt(pow(x[i]-x[j],2)+pow(y[i]-y[j],2)) #Euclidean distance Matrix\n",
        "        \n",
        "#plt.plot(x, y, '-o')"
      ],
      "execution_count": 0,
      "outputs": []
    },
    {
      "cell_type": "code",
      "metadata": {
        "colab_type": "code",
        "id": "3os6YZHoJV92",
        "outputId": "b86fc4d6-8dcc-4fb0-9f96-fbed6debc7f7",
        "colab": {
          "base_uri": "https://localhost:8080/",
          "height": 34
        }
      },
      "source": [
        "# Calcualting the desired distance/ code written by us\n",
        "d1 = np.zeros([N])\n",
        "for i in range(N-1):\n",
        "    d1[i]=np.sqrt((x[i]-x[i+1])**2+(y[i]-y[i+1])**2)\n",
        "\n",
        "h=sum(d1)\n",
        "h=h+np.sqrt((x[N-1]-x[0])**2+(y[N-1]-y[0])**2)\n",
        "print(round(h,4))"
      ],
      "execution_count": 0,
      "outputs": [
        {
          "output_type": "stream",
          "text": [
            "157530.2462\n"
          ],
          "name": "stdout"
        }
      ]
    },
    {
      "cell_type": "code",
      "metadata": {
        "colab_type": "code",
        "id": "eqUeVDzdnMgS",
        "colab": {}
      },
      "source": [
        "# Parameters for network energy function / tuning the hyperparameter\n",
        "A=500; B=500; C=1000; D=500; alpha=0.01"
      ],
      "execution_count": 0,
      "outputs": []
    },
    {
      "cell_type": "code",
      "metadata": {
        "colab_type": "code",
        "id": "KzqXkitVnMgV",
        "colab": {}
      },
      "source": [
        "#network build and contraints taken from github with some minor changes\n",
        "# x-v-value of each node, y-u-input potential, u0-gamma\n",
        "def hopfield():\n",
        "    u0=0.02\n",
        "    toend=0\n",
        "    udao=np.zeros([N, N])\n",
        "    ctr=0\n",
        "    while toend==0:\n",
        "        ctr+=1\n",
        "        # U initialization\n",
        "        v = np.random.rand(N,N)\n",
        "        u = np.ones([N, N])*(-u0*np.log(N-1)/2)\n",
        "        u+=u*0.91\n",
        "        for _ in range(1000):\n",
        "            for vx in range(N):\n",
        "                for vi in range(N):\n",
        "                    j1,j2,j3,j4=0,0,0,0\n",
        "                    # Constraint 1 (sum over columns j!=vi)\n",
        "                    for j in range(N):\n",
        "                        if j!=vi:\n",
        "                            j1+=v[vx, j]\n",
        "                            #print(j, vi, j1)\n",
        "                    j1*=-A\n",
        "                    # contraint 2 (sum over rows y!=x)\n",
        "                    for y in range(N):\n",
        "                        if y!=vx:\n",
        "                            j2+=v[y, vi]\n",
        "                    j2*=-B\n",
        "                    # constraint 3 (overall sum)\n",
        "                    j3 = np.sum(v)\n",
        "                    j3=-C*(j3-N)\n",
        "\n",
        "                    # Shortest distance contraint \n",
        "                    for y in range(N):\n",
        "                        if y!=vx:\n",
        "                            if vi==0:\n",
        "                                j4+=d[vx, y]*(v[y, vi+1]+v[y, N-1])\n",
        "                            elif vi==N-1:\n",
        "                                j4+=d[vx, y]*(v[y, vi-1]+v[y, 0])\n",
        "                            else:\n",
        "                                j4+=d[vx, y]*(v[y, vi+1]+v[y, vi-1])\n",
        "                    j4*=-D\n",
        "                    udao[vx, vi]= -u[vx, vi]+j1+j2+j3+j4\n",
        "            # update status and derivatives\n",
        "            u=u+alpha*udao\n",
        "            # calculate node value from input potential u\n",
        "            v=(1+np.tanh(u/u0))/2\n",
        "            # threshold\n",
        "            for vx in range(N):\n",
        "                for vi in range(N):\n",
        "                    if(v[vx, vi]<0.7):\n",
        "                        v[vx, vi]=0\n",
        "                    if(v[vx, vi]>=0.7):\n",
        "                        v[vx, vi]=1\n",
        "        # testing whether solution is legal\n",
        "        t1, t2, t3 = 0, 0, 0\n",
        "        # require total of N-nodes with 1 value\n",
        "        t1=0;\n",
        "        for vx in range(N):\n",
        "            for vi in range(N):\n",
        "                t1+=v[vx, vi]\n",
        "        # allow only one node in each row equal 1\n",
        "        t2=0\n",
        "        for x in range(N):\n",
        "            for i in range(N-1):\n",
        "                for j in range(i+1, N):\n",
        "                    t2+=np.multiply(v[x, i], v[x, j])\n",
        "        # allow only one node in each column equal 1\n",
        "        t3=0\n",
        "        for i in range(N):\n",
        "            for x in range(N-1):\n",
        "                for y in range(x+1, N):\n",
        "                    t3+=np.multiply(v[x, i], v[y, i])\n",
        "        # stop the loop after getting the valid solution\n",
        "        if t1==N and t2==0 and t3==0:\n",
        "            toend = 1\n",
        "        else:\n",
        "            toend = 0\n",
        "    return(v, ctr)"
      ],
      "execution_count": 0,
      "outputs": []
    },
    {
      "cell_type": "code",
      "metadata": {
        "colab_type": "code",
        "id": "poYChlOJnMgX",
        "colab": {}
      },
      "source": [
        "# calculting the paht cost based on the updated distanvce matrix for each iteration\n",
        "def path_cost(v):\n",
        "    x_des = np.zeros([N+1])\n",
        "    y_des = np.zeros([N+1])\n",
        "    for j in range(N):\n",
        "        for i in range(N):\n",
        "            if v[i,j]==1:\n",
        "                x_des[j]=x[i]\n",
        "                y_des[j]=y[i]\n",
        "\n",
        "    x_des[N]=x_des[0]\n",
        "    y_des[N]=y_des[0]\n",
        "    # calculate the total distance\n",
        "    total_dis=0\n",
        "    for i in range(N-1):\n",
        "        total_dis+=np.sqrt((x_des[i]-x_des[i+1])**2+(y_des[i]-y_des[i+1])**2)\n",
        "    total_dis+=np.sqrt((x_des[N-1]-x_des[0])**2+(y_des[N-1]-y_des[0])**2)\n",
        "    return(total_dis, x_des, y_des)"
      ],
      "execution_count": 0,
      "outputs": []
    },
    {
      "cell_type": "code",
      "metadata": {
        "colab_type": "code",
        "id": "95LQ2qIonMgY",
        "outputId": "729f5221-47d3-47cd-fff3-a9c72d3b2b29",
        "colab": {
          "base_uri": "https://localhost:8080/",
          "height": 34
        }
      },
      "source": [
        "# defining the desired city sequence\n",
        "v_ideal = np.zeros([N,N]) #assuming this as ideal route based on the co-ordinates\n",
        "#Importing the ideal sequence from the data \n",
        "urllib.request.urlretrieve(url = \"https://people.sc.fsu.edu/~jburkardt/datasets/tsp/att48_s.txt\", filename = \"disiredpath.txt\")\n",
        "fname1 = 'disiredpath.txt'\n",
        "seq= np.loadtxt(fname1)\n",
        "seq=seq[0:len(seq)-1]\n",
        "seq=seq.astype(int)\n",
        "seq = [x - 1 for x in seq]\n",
        "print(seq)\n",
        "j=0\n",
        "for el in seq:\n",
        "    v_ideal[el, j]=1\n",
        "    #print(el,j) # Based on the sequence assumed above the distance matrix is obtained\n",
        "    j+=1\n",
        "    #print(v_ideal)"
      ],
      "execution_count": 0,
      "outputs": [
        {
          "output_type": "stream",
          "text": [
            "[0, 7, 37, 30, 43, 17, 6, 27, 5, 36, 18, 26, 16, 42, 29, 35, 45, 32, 19, 46, 20, 31, 38, 47, 4, 41, 23, 9, 44, 34, 3, 25, 1, 28, 33, 40, 15, 21, 2, 22, 13, 24, 12, 10, 11, 14, 39, 8]\n"
          ],
          "name": "stdout"
        }
      ]
    },
    {
      "cell_type": "code",
      "metadata": {
        "colab_type": "code",
        "id": "5MKk4yxCnMgb",
        "outputId": "db7e1b0b-4cd6-46e0-d38c-dbf09b4a40f3",
        "colab": {
          "base_uri": "https://localhost:8080/",
          "height": 346
        }
      },
      "source": [
        "v = np.zeros([N,N])\n",
        "# desired total distance taken from the euclidean distance matrix\n",
        "des_td = round(h,4)\n",
        "count=0\n",
        "node_list = [] #creating an array where the obtained distance matrix is temporarily stored and updated after each iteration\n",
        "while True:\n",
        "    count+=1\n",
        "    v, steps = hopfield() #calling the network\n",
        "    td, _, _ = path_cost(v)\n",
        "    if np.array_equiv(v, v_ideal):\n",
        "        print(\"Desired city sequence matrix and distance achieved for {} runs\".format(count))\n",
        "        print(v)\n",
        "        print(\"Distance: \", td)\n",
        "        node_list.append(v)\n",
        "        break\n",
        "    elif td<=des_td:\n",
        "        print(\"Achieved desired distance for {} runs\".format(count))\n",
        "        print(v)\n",
        "        print(td)\n",
        "        node_list.append(v)\n",
        "    else:\n",
        "        print(\"No desired solution, executed for {} steps, total distance {}\".format(steps, td))"
      ],
      "execution_count": 0,
      "outputs": [
        {
          "output_type": "error",
          "ename": "KeyboardInterrupt",
          "evalue": "ignored",
          "traceback": [
            "\u001b[0;31m---------------------------------------------------------------------------\u001b[0m",
            "\u001b[0;31mKeyboardInterrupt\u001b[0m                         Traceback (most recent call last)",
            "\u001b[0;32m<ipython-input-16-c0eb90b31020>\u001b[0m in \u001b[0;36m<module>\u001b[0;34m()\u001b[0m\n\u001b[1;32m      6\u001b[0m \u001b[0;32mwhile\u001b[0m \u001b[0;32mTrue\u001b[0m\u001b[0;34m:\u001b[0m\u001b[0;34m\u001b[0m\u001b[0;34m\u001b[0m\u001b[0m\n\u001b[1;32m      7\u001b[0m     \u001b[0mcount\u001b[0m\u001b[0;34m+=\u001b[0m\u001b[0;36m1\u001b[0m\u001b[0;34m\u001b[0m\u001b[0;34m\u001b[0m\u001b[0m\n\u001b[0;32m----> 8\u001b[0;31m     \u001b[0mv\u001b[0m\u001b[0;34m,\u001b[0m \u001b[0msteps\u001b[0m \u001b[0;34m=\u001b[0m \u001b[0mhopfield\u001b[0m\u001b[0;34m(\u001b[0m\u001b[0;34m)\u001b[0m \u001b[0;31m#calling the network\u001b[0m\u001b[0;34m\u001b[0m\u001b[0;34m\u001b[0m\u001b[0m\n\u001b[0m\u001b[1;32m      9\u001b[0m     \u001b[0mtd\u001b[0m\u001b[0;34m,\u001b[0m \u001b[0m_\u001b[0m\u001b[0;34m,\u001b[0m \u001b[0m_\u001b[0m \u001b[0;34m=\u001b[0m \u001b[0mpath_cost\u001b[0m\u001b[0;34m(\u001b[0m\u001b[0mv\u001b[0m\u001b[0;34m)\u001b[0m\u001b[0;34m\u001b[0m\u001b[0;34m\u001b[0m\u001b[0m\n\u001b[1;32m     10\u001b[0m     \u001b[0;32mif\u001b[0m \u001b[0mnp\u001b[0m\u001b[0;34m.\u001b[0m\u001b[0marray_equiv\u001b[0m\u001b[0;34m(\u001b[0m\u001b[0mv\u001b[0m\u001b[0;34m,\u001b[0m \u001b[0mv_ideal\u001b[0m\u001b[0;34m)\u001b[0m\u001b[0;34m:\u001b[0m\u001b[0;34m\u001b[0m\u001b[0;34m\u001b[0m\u001b[0m\n",
            "\u001b[0;32m<ipython-input-13-e4924f617f2a>\u001b[0m in \u001b[0;36mhopfield\u001b[0;34m()\u001b[0m\n\u001b[1;32m     37\u001b[0m                                 \u001b[0mj4\u001b[0m\u001b[0;34m+=\u001b[0m\u001b[0md\u001b[0m\u001b[0;34m[\u001b[0m\u001b[0mvx\u001b[0m\u001b[0;34m,\u001b[0m \u001b[0my\u001b[0m\u001b[0;34m]\u001b[0m\u001b[0;34m*\u001b[0m\u001b[0;34m(\u001b[0m\u001b[0mv\u001b[0m\u001b[0;34m[\u001b[0m\u001b[0my\u001b[0m\u001b[0;34m,\u001b[0m \u001b[0mvi\u001b[0m\u001b[0;34m-\u001b[0m\u001b[0;36m1\u001b[0m\u001b[0;34m]\u001b[0m\u001b[0;34m+\u001b[0m\u001b[0mv\u001b[0m\u001b[0;34m[\u001b[0m\u001b[0my\u001b[0m\u001b[0;34m,\u001b[0m \u001b[0;36m0\u001b[0m\u001b[0;34m]\u001b[0m\u001b[0;34m)\u001b[0m\u001b[0;34m\u001b[0m\u001b[0;34m\u001b[0m\u001b[0m\n\u001b[1;32m     38\u001b[0m                             \u001b[0;32melse\u001b[0m\u001b[0;34m:\u001b[0m\u001b[0;34m\u001b[0m\u001b[0;34m\u001b[0m\u001b[0m\n\u001b[0;32m---> 39\u001b[0;31m                                 \u001b[0mj4\u001b[0m\u001b[0;34m+=\u001b[0m\u001b[0md\u001b[0m\u001b[0;34m[\u001b[0m\u001b[0mvx\u001b[0m\u001b[0;34m,\u001b[0m \u001b[0my\u001b[0m\u001b[0;34m]\u001b[0m\u001b[0;34m*\u001b[0m\u001b[0;34m(\u001b[0m\u001b[0mv\u001b[0m\u001b[0;34m[\u001b[0m\u001b[0my\u001b[0m\u001b[0;34m,\u001b[0m \u001b[0mvi\u001b[0m\u001b[0;34m+\u001b[0m\u001b[0;36m1\u001b[0m\u001b[0;34m]\u001b[0m\u001b[0;34m+\u001b[0m\u001b[0mv\u001b[0m\u001b[0;34m[\u001b[0m\u001b[0my\u001b[0m\u001b[0;34m,\u001b[0m \u001b[0mvi\u001b[0m\u001b[0;34m-\u001b[0m\u001b[0;36m1\u001b[0m\u001b[0;34m]\u001b[0m\u001b[0;34m)\u001b[0m\u001b[0;34m\u001b[0m\u001b[0;34m\u001b[0m\u001b[0m\n\u001b[0m\u001b[1;32m     40\u001b[0m                     \u001b[0mj4\u001b[0m\u001b[0;34m*=\u001b[0m\u001b[0;34m-\u001b[0m\u001b[0mD\u001b[0m\u001b[0;34m\u001b[0m\u001b[0;34m\u001b[0m\u001b[0m\n\u001b[1;32m     41\u001b[0m                     \u001b[0mudao\u001b[0m\u001b[0;34m[\u001b[0m\u001b[0mvx\u001b[0m\u001b[0;34m,\u001b[0m \u001b[0mvi\u001b[0m\u001b[0;34m]\u001b[0m\u001b[0;34m=\u001b[0m \u001b[0;34m-\u001b[0m\u001b[0mu\u001b[0m\u001b[0;34m[\u001b[0m\u001b[0mvx\u001b[0m\u001b[0;34m,\u001b[0m \u001b[0mvi\u001b[0m\u001b[0;34m]\u001b[0m\u001b[0;34m+\u001b[0m\u001b[0mj1\u001b[0m\u001b[0;34m+\u001b[0m\u001b[0mj2\u001b[0m\u001b[0;34m+\u001b[0m\u001b[0mj3\u001b[0m\u001b[0;34m+\u001b[0m\u001b[0mj4\u001b[0m\u001b[0;34m\u001b[0m\u001b[0;34m\u001b[0m\u001b[0m\n",
            "\u001b[0;31mKeyboardInterrupt\u001b[0m: "
          ]
        }
      ]
    },
    {
      "cell_type": "code",
      "metadata": {
        "colab_type": "code",
        "id": "b0vI4-QDnMgd",
        "colab": {}
      },
      "source": [
        "#creating a function which an represnt the route as shown \n",
        "def route_representation(v):\n",
        "    route = \"\"\n",
        "    for j in range(v.shape[1]):\n",
        "        route += str(np.argmax(v[:, j])) + '->'\n",
        "    return (route + str(np.argmax(v[:, 0])))"
      ],
      "execution_count": 0,
      "outputs": []
    },
    {
      "cell_type": "code",
      "metadata": {
        "colab_type": "code",
        "id": "3TbGoXEEnMgf",
        "colab": {}
      },
      "source": [
        "def label(N, x, y):\n",
        "    labels = np.arange(10) #for the plot generated from the 0btained route the labels for that particular plot is created using references\n",
        "    for label, x, y in zip(labels, x, y):\n",
        "        plt.annotate(\n",
        "            label,\n",
        "            xy=(x, y), xytext=(-20, 20),\n",
        "            textcoords='offset points', ha='right', va='bottom',\n",
        "            bbox=dict(boxstyle='round,pad=0.5', fc='white', alpha=0.5),\n",
        "            arrowprops=dict(arrowstyle = '->', connectionstyle='arc3,rad=0'))"
      ],
      "execution_count": 0,
      "outputs": []
    },
    {
      "cell_type": "code",
      "metadata": {
        "colab_type": "code",
        "id": "ZWJwbHHBnMgh",
        "colab": {}
      },
      "source": [
        "v = node_list[0]\n",
        "td, X, Y = path_cost(v)\n",
        "print(\"Total distance: \", td)\n",
        "plt.plot(X, Y,'o-');\n",
        "label(N, x, y)\n",
        "print(\"Given city sequence: {}\".format(route_representation(v_ideal)))\n",
        "print(\"Obtained city sequence: {}\".format(route_representation(v)))"
      ],
      "execution_count": 0,
      "outputs": []
    },
    {
      "cell_type": "code",
      "metadata": {
        "colab_type": "code",
        "id": "hCYO9b9enMgj",
        "colab": {}
      },
      "source": [
        "print((time.clock() - start_time)/60, \"Minutes\")"
      ],
      "execution_count": 0,
      "outputs": []
    }
  ]
}